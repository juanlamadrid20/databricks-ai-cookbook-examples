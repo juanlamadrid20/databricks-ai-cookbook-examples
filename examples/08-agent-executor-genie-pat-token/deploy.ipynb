{
 "cells": [
  {
   "cell_type": "code",
   "execution_count": 0,
   "metadata": {
    "application/vnd.databricks.v1+cell": {
     "cellMetadata": {
      "byteLimit": 2048000,
      "rowLimit": 10000
     },
     "inputWidgets": {},
     "nuid": "b528ede8-8640-44d6-a981-84daf5263f79",
     "showTitle": false,
     "tableResultSettingsMap": {},
     "title": ""
    }
   },
   "outputs": [],
   "source": [
    "%pip install -r requirements.txt"
   ]
  },
  {
   "cell_type": "code",
   "execution_count": 0,
   "metadata": {
    "application/vnd.databricks.v1+cell": {
     "cellMetadata": {
      "byteLimit": 2048000,
      "rowLimit": 10000
     },
     "inputWidgets": {},
     "nuid": "c2c45231-1bce-48c6-84b2-fe71d210134c",
     "showTitle": false,
     "tableResultSettingsMap": {},
     "title": ""
    }
   },
   "outputs": [],
   "source": [
    "dbutils.library.restartPython()"
   ]
  },
  {
   "cell_type": "code",
   "execution_count": 0,
   "metadata": {
    "application/vnd.databricks.v1+cell": {
     "cellMetadata": {
      "byteLimit": 2048000,
      "rowLimit": 10000
     },
     "inputWidgets": {},
     "nuid": "d07d926a-3a35-4de4-89cf-bb616ef16067",
     "showTitle": false,
     "tableResultSettingsMap": {},
     "title": ""
    }
   },
   "outputs": [],
   "source": [
    "import mlflow\n",
    "from mlflow.models import ModelConfig\n",
    "\n",
    "mlflow.langchain.autolog()\n",
    "config = ModelConfig(development_config=\"config.yml\")\n",
    "deployment_config = ModelConfig(development_config=\"deployment.yml\")"
   ]
  },
  {
   "cell_type": "code",
   "execution_count": 0,
   "metadata": {
    "application/vnd.databricks.v1+cell": {
     "cellMetadata": {
      "byteLimit": 2048000,
      "rowLimit": 10000
     },
     "inputWidgets": {},
     "nuid": "b9ce9ba3-40f9-418a-89f0-c1a83422121e",
     "showTitle": false,
     "tableResultSettingsMap": {},
     "title": ""
    }
   },
   "outputs": [],
   "source": [
    "import re\n",
    "\n",
    "def clean_string(input_string: str) -> str:\n",
    "    cleaned = re.sub(r'[^a-zA-Z0-9\\s]', '_', input_string)\n",
    "    cleaned = re.sub(r'\\s+', '_', cleaned)\n",
    "    cleaned = re.sub(r'_+', '_', cleaned)\n",
    "    return cleaned.strip('_').lower()\n",
    "\n",
    "\n",
    "genie_space_id = config.get(\"genie_space_id\")\n",
    "_genie_agent_name = config.get(\"genie_agent_name\")\n",
    "genie_space_description = config.get(\"genie_space_description\")\n",
    "\n",
    "assert genie_space_id, f\"Configure the genie_space_id in config.yml it is: {genie_space_id}\"\n",
    "assert _genie_agent_name, f\"Configure the genie_agent_name in config.yml it is: {_genie_agent_name}\"\n",
    "assert genie_space_id, f\"Configure the genie_space_description in config.yml it is: {genie_space_description}\"\n",
    "\n",
    "genie_agent_name = clean_string(_genie_agent_name)\n",
    "\n",
    "\n",
    "databricks_auth_type = deployment_config.get(\"databricks_auth_type\")\n",
    "databricks_token = deployment_config.get(\"databricks_token\")\n",
    "databricks_host = deployment_config.get(\"databricks_host\")\n",
    "assert databricks_auth_type, f\"Configure the databricks_auth_type in deployment.yml it is: {databricks_auth_type}\"\n",
    "assert databricks_token, f\"Configure the databricks_token in deployment.yml it is: {databricks_token}\"\n",
    "assert databricks_host, f\"Configure the databricks_host in deployment.yml it is: {databricks_host}\""
   ]
  },
  {
   "cell_type": "code",
   "execution_count": 0,
   "metadata": {
    "application/vnd.databricks.v1+cell": {
     "cellMetadata": {
      "byteLimit": 2048000,
      "rowLimit": 10000
     },
     "inputWidgets": {},
     "nuid": "336294ac-8c4c-4c3d-8ff4-76be8a5c3107",
     "showTitle": false,
     "tableResultSettingsMap": {},
     "title": ""
    }
   },
   "outputs": [],
   "source": [
    "# Log the model to MLflow\n",
    "import os\n",
    "import mlflow\n",
    "from mlflow.models.resources import DatabricksServingEndpoint, DatabricksGenieSpace, DatabricksSQLWarehouse\n",
    "\n",
    "input_example = {\n",
    "    \"messages\": [\n",
    "        {\n",
    "            \"role\": \"user\",\n",
    "            \"content\": \"What is an LLM agent and what is 2 + 2?\"\n",
    "        }\n",
    "    ]\n",
    "}\n",
    "\n",
    "with mlflow.start_run():\n",
    "    logged_agent_info = mlflow.langchain.log_model(\n",
    "        lc_model=os.path.join(\n",
    "            os.getcwd(),\n",
    "            'model',\n",
    "        ),\n",
    "        pip_requirements=\"requirements.txt\",\n",
    "        model_config=\"config.yml\",\n",
    "        artifact_path='model',\n",
    "        input_example=input_example,\n",
    "    )"
   ]
  },
  {
   "cell_type": "code",
   "execution_count": 0,
   "metadata": {
    "application/vnd.databricks.v1+cell": {
     "cellMetadata": {
      "byteLimit": 2048000,
      "rowLimit": 10000
     },
     "inputWidgets": {},
     "nuid": "3ab7d524-7335-4cc4-91d3-4ed1f0e23835",
     "showTitle": false,
     "tableResultSettingsMap": {},
     "title": ""
    }
   },
   "outputs": [],
   "source": [
    "import pandas as pd\n",
    "\n",
    "eval_examples = [\n",
    "    {\n",
    "        \"request\": {\n",
    "            \"messages\": [\n",
    "                {\n",
    "                    \"role\": \"user\",\n",
    "                    \"content\": \"What is 2+2?\"\n",
    "                }\n",
    "            ]\n",
    "        },\n",
    "        \"expected_response\": None\n",
    "    }\n",
    "]\n",
    "\n",
    "eval_dataset = pd.DataFrame(eval_examples)\n",
    "display(eval_dataset)"
   ]
  },
  {
   "cell_type": "code",
   "execution_count": 0,
   "metadata": {
    "application/vnd.databricks.v1+cell": {
     "cellMetadata": {
      "byteLimit": 2048000,
      "rowLimit": 10000
     },
     "inputWidgets": {},
     "nuid": "1a273fc6-8129-4897-b52d-26e2af2bb08d",
     "showTitle": false,
     "tableResultSettingsMap": {},
     "title": ""
    }
   },
   "outputs": [],
   "source": [
    "import mlflow\n",
    "\n",
    "with mlflow.start_run(run_id=logged_agent_info.run_id):\n",
    "    eval_results = mlflow.evaluate(\n",
    "        f\"runs:/{logged_agent_info.run_id}/model\",  # replace `chain` with artifact_path that you used when calling log_model.\n",
    "        data=eval_dataset,  # Your evaluation dataset\n",
    "        model_type=\"databricks-agent\",  # Enable Mosaic AI Agent Evaluation\n",
    "    )\n",
    "\n",
    "# Review the evaluation results in the MLFLow UI (see console output), or access them in place:\n",
    "display(eval_results.tables['eval_results'])"
   ]
  },
  {
   "cell_type": "code",
   "execution_count": 0,
   "metadata": {
    "application/vnd.databricks.v1+cell": {
     "cellMetadata": {
      "byteLimit": 2048000,
      "rowLimit": 10000
     },
     "inputWidgets": {},
     "nuid": "a3f3c6f3-48eb-4aa1-9574-e8c5f8d4f45c",
     "showTitle": false,
     "tableResultSettingsMap": {},
     "title": ""
    }
   },
   "outputs": [],
   "source": [
    "from databricks.sdk import WorkspaceClient\n",
    "import re\n",
    "\n",
    "w = WorkspaceClient()\n",
    "\n",
    "def normalize(inp: str) -> str:\n",
    "    normalized_prefix = re.sub(r'\\W+', '_', inp)\n",
    "      # Remove multiple underscores in a row\n",
    "    return re.sub(r'_+', '_', normalized_prefix).strip(\"_\")\n",
    "\n",
    "def get_current_user_normalized():\n",
    "  email = w.current_user.me().user_name.split(\"@\")[0]\n",
    "  return normalize(email)\n",
    "\n",
    "prefix = get_current_user_normalized()\n",
    "prefix"
   ]
  },
  {
   "cell_type": "code",
   "execution_count": 0,
   "metadata": {
    "application/vnd.databricks.v1+cell": {
     "cellMetadata": {
      "byteLimit": 2048000,
      "rowLimit": 10000
     },
     "inputWidgets": {},
     "nuid": "8f021785-2e6a-4884-aa15-481ec14f5d2f",
     "showTitle": false,
     "tableResultSettingsMap": {},
     "title": ""
    }
   },
   "outputs": [],
   "source": [
    "import os\n",
    "\n",
    "current_directory = os.getcwd()\n",
    "current_folder_name = os.path.basename(current_directory)\n",
    "normalized_current_folder = normalize(current_folder_name)\n",
    "normalized_current_folder"
   ]
  },
  {
   "cell_type": "code",
   "execution_count": 0,
   "metadata": {
    "application/vnd.databricks.v1+cell": {
     "cellMetadata": {
      "byteLimit": 2048000,
      "rowLimit": 10000
     },
     "inputWidgets": {},
     "nuid": "314ab250-30ed-4837-95ef-4f796faae699",
     "showTitle": false,
     "tableResultSettingsMap": {},
     "title": ""
    }
   },
   "outputs": [],
   "source": [
    "mlflow.set_registry_uri(\"databricks-uc\")\n",
    "\n",
    "# TODO: define the catalog, schema, and model name for your UC model\n",
    "catalog = \"main\"\n",
    "schema = \"default\"\n",
    "# TODO: modify these values\n",
    "model_name = f\"{prefix}_{normalized_current_folder}\"\n",
    "UC_MODEL_NAME = f\"{catalog}.{schema}.{model_name}\"\n",
    "\n",
    "# register the model to UC\n",
    "uc_registered_model_info = mlflow.register_model(model_uri=logged_agent_info.model_uri, name=UC_MODEL_NAME)"
   ]
  },
  {
   "cell_type": "code",
   "execution_count": 0,
   "metadata": {
    "application/vnd.databricks.v1+cell": {
     "cellMetadata": {
      "byteLimit": 2048000,
      "rowLimit": 10000
     },
     "inputWidgets": {},
     "nuid": "567a337e-cb67-4464-a858-e8893c599906",
     "showTitle": false,
     "tableResultSettingsMap": {},
     "title": ""
    }
   },
   "outputs": [],
   "source": [
    "from databricks import agents\n",
    "\n",
    "# Deploy the model to the review app and a model serving endpoint\n",
    "deployment = agents.deploy(UC_MODEL_NAME, uc_registered_model_info.version, environment_vars={\n",
    "  \"DATABRICKS_AUTH_TYPE\": databricks_auth_type,\n",
    "  \"DATABRICKS_TOKEN\": databricks_token,\n",
    "  \"DATABRICKS_HOST\": databricks_host\n",
    "})"
   ]
  },
  {
   "cell_type": "code",
   "execution_count": 0,
   "metadata": {
    "application/vnd.databricks.v1+cell": {
     "cellMetadata": {
      "byteLimit": 2048000,
      "rowLimit": 10000
     },
     "inputWidgets": {},
     "nuid": "e012d7ef-f319-4691-8e3c-e220536b4369",
     "showTitle": false,
     "tableResultSettingsMap": {},
     "title": ""
    }
   },
   "outputs": [],
   "source": [
    "deployment"
   ]
  },
  {
   "cell_type": "code",
   "execution_count": 0,
   "metadata": {
    "application/vnd.databricks.v1+cell": {
     "cellMetadata": {
      "byteLimit": 2048000,
      "rowLimit": 10000
     },
     "inputWidgets": {},
     "nuid": "36a5c87f-2f30-4a34-96c5-7178a9154a5a",
     "showTitle": false,
     "tableResultSettingsMap": {},
     "title": ""
    }
   },
   "outputs": [],
   "source": [
    "result = w.serving_endpoints.wait_get_serving_endpoint_not_updating(name=deployment.endpoint_name, )"
   ]
  },
  {
   "cell_type": "code",
   "execution_count": 0,
   "metadata": {
    "application/vnd.databricks.v1+cell": {
     "cellMetadata": {
      "byteLimit": 2048000,
      "rowLimit": 10000
     },
     "inputWidgets": {},
     "nuid": "9534d3be-882a-4909-b02a-b083526eeb01",
     "showTitle": false,
     "tableResultSettingsMap": {},
     "title": ""
    }
   },
   "outputs": [],
   "source": [
    "if result.state.config_update.value == \"UPDATE_FAILED\":\n",
    "    raise Exception(\"Deployment failed\")"
   ]
  },
  {
   "cell_type": "code",
   "execution_count": 0,
   "metadata": {
    "application/vnd.databricks.v1+cell": {
     "cellMetadata": {
      "byteLimit": 2048000,
      "rowLimit": 10000
     },
     "inputWidgets": {},
     "nuid": "ebc42a7a-a77b-48b0-8e24-83efc1fbcbff",
     "showTitle": false,
     "tableResultSettingsMap": {},
     "title": ""
    }
   },
   "outputs": [],
   "source": [
    "from databricks.sdk.service.serving import ChatMessage, ChatMessageRole\n",
    "messages = [ChatMessage(role=ChatMessageRole.USER, content=\"what are the top 10 companies that are most and least consuming when it comes to CO2? what about electricity or fuel?\"),]\n",
    "w.serving_endpoints.query(name=deployment.endpoint_name, messages=messages)"
   ]
  },
  {
   "cell_type": "code",
   "execution_count": 0,
   "metadata": {
    "application/vnd.databricks.v1+cell": {
     "cellMetadata": {
      "byteLimit": 2048000,
      "rowLimit": 10000
     },
     "inputWidgets": {},
     "nuid": "fdf71580-4ecc-48d2-bb2b-21c83be41714",
     "showTitle": false,
     "tableResultSettingsMap": {},
     "title": ""
    }
   },
   "outputs": [],
   "source": [
    "is_int_testing_job = None\n",
    "try:\n",
    "    is_int_testing_job = dbutils.widgets.get(name=\"int_testing_job\")\n",
    "except Exception:\n",
    "    pass\n",
    "\n",
    "if is_int_testing_job is not None:\n",
    "    state = w.serving_endpoints.delete(deployment.endpoint_name)\n",
    "    print(state)"
   ]
  },
  {
   "cell_type": "code",
   "execution_count": 0,
   "metadata": {
    "application/vnd.databricks.v1+cell": {
     "cellMetadata": {},
     "inputWidgets": {},
     "nuid": "21858e52-d765-406a-9a09-591601339d79",
     "showTitle": false,
     "tableResultSettingsMap": {},
     "title": ""
    }
   },
   "outputs": [],
   "source": []
  }
 ],
 "metadata": {
  "application/vnd.databricks.v1+notebook": {
   "dashboards": [],
   "environmentMetadata": null,
   "language": "python",
   "notebookMetadata": {
    "pythonIndentUnit": 2
   },
   "notebookName": "deploy",
   "widgets": {}
  },
  "language_info": {
   "name": "python"
  }
 },
 "nbformat": 4,
 "nbformat_minor": 0
}
