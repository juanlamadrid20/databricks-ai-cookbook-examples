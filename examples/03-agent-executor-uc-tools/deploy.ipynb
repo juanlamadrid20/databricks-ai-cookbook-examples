{
 "cells": [
  {
   "cell_type": "code",
   "execution_count": 0,
   "metadata": {
    "application/vnd.databricks.v1+cell": {
     "cellMetadata": {
      "byteLimit": 2048000,
      "rowLimit": 10000
     },
     "inputWidgets": {},
     "nuid": "378041c9-b931-4c96-8773-199ad62d1fac",
     "showTitle": false,
     "tableResultSettingsMap": {},
     "title": ""
    }
   },
   "outputs": [],
   "source": [
    "%pip install -r requirements.txt"
   ]
  },
  {
   "cell_type": "code",
   "execution_count": 0,
   "metadata": {
    "application/vnd.databricks.v1+cell": {
     "cellMetadata": {
      "byteLimit": 2048000,
      "rowLimit": 10000
     },
     "inputWidgets": {},
     "nuid": "8750cc8f-52a6-4ca0-af6d-ae8e841de743",
     "showTitle": false,
     "tableResultSettingsMap": {},
     "title": ""
    }
   },
   "outputs": [],
   "source": [
    "dbutils.library.restartPython()"
   ]
  },
  {
   "cell_type": "code",
   "execution_count": 0,
   "metadata": {
    "application/vnd.databricks.v1+cell": {
     "cellMetadata": {
      "byteLimit": 2048000,
      "rowLimit": 10000
     },
     "inputWidgets": {},
     "nuid": "c9371509-c6de-4876-8ec9-9d5af745ac4e",
     "showTitle": false,
     "tableResultSettingsMap": {},
     "title": ""
    }
   },
   "outputs": [],
   "source": [
    "import mlflow\n",
    "from mlflow.models import ModelConfig\n",
    "\n",
    "mlflow.langchain.autolog()\n",
    "config = ModelConfig(development_config=\"config.yml\")"
   ]
  },
  {
   "cell_type": "code",
   "execution_count": 0,
   "metadata": {
    "application/vnd.databricks.v1+cell": {
     "cellMetadata": {
      "byteLimit": 2048000,
      "rowLimit": 10000
     },
     "inputWidgets": {},
     "nuid": "ba0dd632-272c-480c-9009-7c6f1e082fec",
     "showTitle": false,
     "tableResultSettingsMap": {},
     "title": ""
    }
   },
   "outputs": [],
   "source": [
    "# catalog: main\n",
    "# schema: default\n",
    "# add_function: test_add\n",
    "# multiply_function: test_multiply\n",
    "\n",
    "CATALOG = config.get(\"catalog\")\n",
    "SCHEMA = config.get(\"schema\")\n",
    "FUNCTION1 = config.get(\"add_function\")\n",
    "FUNCTION2 = config.get(\"multiply_function\")\n",
    "\n",
    "spark.sql(f\"\"\"\n",
    "CREATE OR REPLACE FUNCTION {CATALOG}.{SCHEMA}.{FUNCTION1} (\n",
    "  a INT COMMENT 'the first operand.',\n",
    "  b INT COMMENT 'the second operand.'\n",
    ")\n",
    "RETURNS INT\n",
    "LANGUAGE PYTHON\n",
    "COMMENT 'Adds two operands.'\n",
    "AS $$\n",
    "  return a + b\n",
    "$$\n",
    "\"\"\")\n",
    "\n",
    "spark.sql(f\"\"\"\n",
    "CREATE OR REPLACE FUNCTION {CATALOG}.{SCHEMA}.{FUNCTION2} (\n",
    "  a INT COMMENT 'the first operand.',\n",
    "  b INT COMMENT 'the second operand.'\n",
    ")\n",
    "RETURNS INT\n",
    "LANGUAGE PYTHON\n",
    "COMMENT 'Multiplies two operands.'\n",
    "AS $$\n",
    "  return a * b\n",
    "$$\n",
    "\"\"\")"
   ]
  },
  {
   "cell_type": "code",
   "execution_count": 0,
   "metadata": {
    "application/vnd.databricks.v1+cell": {
     "cellMetadata": {
      "byteLimit": 2048000,
      "rowLimit": 10000
     },
     "inputWidgets": {},
     "nuid": "7c493812-e34b-458c-b57b-915e617cfe74",
     "showTitle": false,
     "tableResultSettingsMap": {},
     "title": ""
    }
   },
   "outputs": [],
   "source": [
    "from databricks.sdk import WorkspaceClient\n",
    "from typing import Optional\n",
    "\n",
    "# warehouse_name = \"Starter Warehouse UC\"\n",
    "try:\n",
    "    warehouse_name = config.get(\"warehouse_name\")\n",
    "except Exception:\n",
    "    warehouse_name = None\n",
    "\n",
    "w = WorkspaceClient()\n",
    "\n",
    "# Put it in the config or let it fetch it by name\n",
    "try:\n",
    "    config_warehouse_id = config.get(\"warehouse_id\")\n",
    "except Exception:\n",
    "    config_warehouse_id = None\n",
    "\n",
    "def get_warehouse_id(warehouse_id: Optional[str], warehouse_name: Optional[str]) -> str:\n",
    "    # This will try to create a warehouse with a name if id is not configured in config\n",
    "    # or it will try to list and use it\n",
    "\n",
    "    if warehouse_id is not None:\n",
    "        return warehouse_id\n",
    "    \n",
    "    assert warehouse_name is not None, \"warehouse_name is None unable to find warehouse\"\n",
    "    \n",
    "    for wh in w.warehouses.list():\n",
    "        if wh.name == warehouse_name:\n",
    "            warehouse_id = wh.id\n",
    "\n",
    "    try:\n",
    "        if warehouse_id is None:\n",
    "            warehouse = w.warehouses.create_and_wait(\n",
    "                cluster_size=\"Small\",\n",
    "                auto_stop_mins=1, \n",
    "                name=warehouse_name, \n",
    "                enable_serverless_compute=True, \n",
    "                min_num_clusters=1, \n",
    "                max_num_clusters=1\n",
    "            )\n",
    "            warehouse_id = warehouse.id\n",
    "    except Exception:\n",
    "        print(\"you probably do not have permissions to do this\")\n",
    "\n",
    "    assert warehouse_id is not None, \"Warehouse id is None\"\n",
    "    return warehouse_id\n",
    "\n",
    "warehouse_id = get_warehouse_id(config_warehouse_id, warehouse_name)\n",
    "warehouse_id"
   ]
  },
  {
   "cell_type": "code",
   "execution_count": 0,
   "metadata": {
    "application/vnd.databricks.v1+cell": {
     "cellMetadata": {
      "byteLimit": 2048000,
      "rowLimit": 10000
     },
     "inputWidgets": {},
     "nuid": "324ba9d6-d9d0-4e47-be38-7d90476e8674",
     "showTitle": false,
     "tableResultSettingsMap": {},
     "title": ""
    }
   },
   "outputs": [],
   "source": [
    "# Log the model to MLflow\n",
    "import os\n",
    "import mlflow\n",
    "from mlflow.models.resources import DatabricksServingEndpoint, DatabricksSQLWarehouse, DatabricksFunction\n",
    "\n",
    "input_example = {\n",
    "    \"messages\": [\n",
    "        {\n",
    "            \"role\": \"user\",\n",
    "            \"content\": \"What is an LLM agent?\"\n",
    "        }\n",
    "    ]\n",
    "}\n",
    "\n",
    "function_1 = f\"{config.get('catalog')}.{config.get('schema')}.{config.get('add_function')}\"\n",
    "function_2 = f\"{config.get('catalog')}.{config.get('schema')}.{config.get('multiply_function')}\"\n",
    "\n",
    "with mlflow.start_run():\n",
    "    logged_agent_info = mlflow.langchain.log_model(\n",
    "        lc_model=os.path.join(\n",
    "            os.getcwd(),\n",
    "            'model',\n",
    "        ),\n",
    "        resources=[\n",
    "            DatabricksServingEndpoint(endpoint_name=config.get(\"llm_endpoint\")),\n",
    "            DatabricksSQLWarehouse(warehouse_id=warehouse_id),\n",
    "            DatabricksFunction(function_name=function_1),\n",
    "            DatabricksFunction(function_name=function_2),\n",
    "        ],\n",
    "        pip_requirements=\"requirements.txt\",\n",
    "        model_config=\"config.yml\",\n",
    "        artifact_path='model',\n",
    "        input_example=input_example,\n",
    "    )"
   ]
  },
  {
   "cell_type": "code",
   "execution_count": 0,
   "metadata": {
    "application/vnd.databricks.v1+cell": {
     "cellMetadata": {
      "byteLimit": 2048000,
      "rowLimit": 10000
     },
     "inputWidgets": {},
     "nuid": "e4fd7acf-ef23-4353-b017-bdfed9c079ba",
     "showTitle": false,
     "tableResultSettingsMap": {},
     "title": ""
    }
   },
   "outputs": [],
   "source": [
    "import pandas as pd\n",
    "\n",
    "eval_examples = [\n",
    "    {\n",
    "        \"request\": {\n",
    "            \"messages\": [\n",
    "                {\n",
    "                    \"role\": \"user\",\n",
    "                    \"content\": \"What is 2+2?\"\n",
    "                }\n",
    "            ]\n",
    "        },\n",
    "        \"expected_response\": \"4\"\n",
    "    }\n",
    "]\n",
    "\n",
    "eval_dataset = pd.DataFrame(eval_examples)\n",
    "display(eval_dataset)"
   ]
  },
  {
   "cell_type": "code",
   "execution_count": 0,
   "metadata": {
    "application/vnd.databricks.v1+cell": {
     "cellMetadata": {
      "byteLimit": 2048000,
      "rowLimit": 10000
     },
     "inputWidgets": {},
     "nuid": "cba44e04-8368-4404-8854-642dda9215c7",
     "showTitle": false,
     "tableResultSettingsMap": {},
     "title": ""
    }
   },
   "outputs": [],
   "source": [
    "import mlflow\n",
    "\n",
    "with mlflow.start_run(run_id=logged_agent_info.run_id):\n",
    "    eval_results = mlflow.evaluate(\n",
    "        f\"runs:/{logged_agent_info.run_id}/model\",  # replace `chain` with artifact_path that you used when calling log_model.\n",
    "        data=eval_dataset,  # Your evaluation dataset\n",
    "        model_type=\"databricks-agent\",  # Enable Mosaic AI Agent Evaluation\n",
    "    )\n",
    "\n",
    "# Review the evaluation results in the MLFLow UI (see console output), or access them in place:\n",
    "display(eval_results.tables['eval_results'])"
   ]
  },
  {
   "cell_type": "code",
   "execution_count": 0,
   "metadata": {
    "application/vnd.databricks.v1+cell": {
     "cellMetadata": {
      "byteLimit": 2048000,
      "rowLimit": 10000
     },
     "inputWidgets": {},
     "nuid": "e8ce7a40-b477-4bf0-ab63-bd9376ad37f0",
     "showTitle": false,
     "tableResultSettingsMap": {},
     "title": ""
    }
   },
   "outputs": [],
   "source": [
    "from databricks.sdk import WorkspaceClient\n",
    "import re\n",
    "\n",
    "w = WorkspaceClient()\n",
    "\n",
    "def normalize(inp: str) -> str:\n",
    "    normalized_prefix = re.sub(r'\\W+', '_', inp)\n",
    "      # Remove multiple underscores in a row\n",
    "    return re.sub(r'_+', '_', normalized_prefix).strip(\"_\")\n",
    "\n",
    "def get_current_user_normalized():\n",
    "  email = w.current_user.me().user_name.split(\"@\")[0]\n",
    "  return normalize(email)\n",
    "\n",
    "prefix = get_current_user_normalized()\n",
    "prefix"
   ]
  },
  {
   "cell_type": "code",
   "execution_count": 0,
   "metadata": {
    "application/vnd.databricks.v1+cell": {
     "cellMetadata": {
      "byteLimit": 2048000,
      "rowLimit": 10000
     },
     "inputWidgets": {},
     "nuid": "8631810d-25d0-44f3-9a7c-e243dc339c1f",
     "showTitle": false,
     "tableResultSettingsMap": {},
     "title": ""
    }
   },
   "outputs": [],
   "source": [
    "import os\n",
    "\n",
    "current_directory = os.getcwd()\n",
    "current_folder_name = os.path.basename(current_directory)\n",
    "normalized_current_folder = normalize(current_folder_name)\n",
    "normalized_current_folder"
   ]
  },
  {
   "cell_type": "code",
   "execution_count": 0,
   "metadata": {
    "application/vnd.databricks.v1+cell": {
     "cellMetadata": {
      "byteLimit": 2048000,
      "rowLimit": 10000
     },
     "inputWidgets": {},
     "nuid": "93c71781-8110-4d56-9e02-4a610a564543",
     "showTitle": false,
     "tableResultSettingsMap": {},
     "title": ""
    }
   },
   "outputs": [],
   "source": [
    "mlflow.set_registry_uri(\"databricks-uc\")\n",
    "\n",
    "# TODO: define the catalog, schema, and model name for your UC model\n",
    "catalog = \"main\"\n",
    "schema = \"default\"\n",
    "# TODO: modify these values\n",
    "model_name = f\"{prefix}_{normalized_current_folder}\"\n",
    "UC_MODEL_NAME = f\"{catalog}.{schema}.{model_name}\"\n",
    "\n",
    "# register the model to UC\n",
    "uc_registered_model_info = mlflow.register_model(model_uri=logged_agent_info.model_uri, name=UC_MODEL_NAME)"
   ]
  },
  {
   "cell_type": "code",
   "execution_count": 0,
   "metadata": {
    "application/vnd.databricks.v1+cell": {
     "cellMetadata": {
      "byteLimit": 2048000,
      "rowLimit": 10000
     },
     "inputWidgets": {},
     "nuid": "6950b28f-4320-413a-9816-482b546c9628",
     "showTitle": false,
     "tableResultSettingsMap": {},
     "title": ""
    }
   },
   "outputs": [],
   "source": [
    "from databricks import agents\n",
    "\n",
    "# Deploy the model to the review app and a model serving endpoint\n",
    "deployment = agents.deploy(UC_MODEL_NAME, uc_registered_model_info.version)"
   ]
  },
  {
   "cell_type": "code",
   "execution_count": 0,
   "metadata": {
    "application/vnd.databricks.v1+cell": {
     "cellMetadata": {
      "byteLimit": 2048000,
      "rowLimit": 10000
     },
     "inputWidgets": {},
     "nuid": "b8d10518-e1c3-4871-876f-4f26a7711019",
     "showTitle": false,
     "tableResultSettingsMap": {},
     "title": ""
    }
   },
   "outputs": [],
   "source": [
    "deployment"
   ]
  },
  {
   "cell_type": "code",
   "execution_count": 0,
   "metadata": {
    "application/vnd.databricks.v1+cell": {
     "cellMetadata": {
      "byteLimit": 2048000,
      "rowLimit": 10000
     },
     "inputWidgets": {},
     "nuid": "f2d1c30b-2263-4319-b2b8-052a4498be84",
     "showTitle": false,
     "tableResultSettingsMap": {},
     "title": ""
    }
   },
   "outputs": [],
   "source": [
    "result = w.serving_endpoints.wait_get_serving_endpoint_not_updating(name=deployment.endpoint_name, )"
   ]
  },
  {
   "cell_type": "code",
   "execution_count": 0,
   "metadata": {
    "application/vnd.databricks.v1+cell": {
     "cellMetadata": {
      "byteLimit": 2048000,
      "rowLimit": 10000
     },
     "inputWidgets": {},
     "nuid": "dde97614-4c58-4f15-a845-3526af19839f",
     "showTitle": false,
     "tableResultSettingsMap": {},
     "title": ""
    }
   },
   "outputs": [],
   "source": [
    "if result.state.config_update.value == \"UPDATE_FAILED\":\n",
    "    raise Exception(\"Deployment failed\")"
   ]
  },
  {
   "cell_type": "code",
   "execution_count": 0,
   "metadata": {
    "application/vnd.databricks.v1+cell": {
     "cellMetadata": {
      "byteLimit": 2048000,
      "rowLimit": 10000
     },
     "inputWidgets": {},
     "nuid": "a2572a48-6f08-4d5c-b7bc-46f987519a79",
     "showTitle": false,
     "tableResultSettingsMap": {},
     "title": ""
    }
   },
   "outputs": [],
   "source": [
    "from databricks.sdk.service.serving import ChatMessage, ChatMessageRole\n",
    "messages = [ChatMessage(role=ChatMessageRole.USER, content=\"Hello, what is 2+2?\"),]\n",
    "w.serving_endpoints.query(name=deployment.endpoint_name, messages=messages)"
   ]
  },
  {
   "cell_type": "code",
   "execution_count": 0,
   "metadata": {
    "application/vnd.databricks.v1+cell": {
     "cellMetadata": {},
     "inputWidgets": {},
     "nuid": "d493337f-4b85-4c15-991d-23340fc916dc",
     "showTitle": false,
     "tableResultSettingsMap": {},
     "title": ""
    }
   },
   "outputs": [],
   "source": []
  }
 ],
 "metadata": {
  "application/vnd.databricks.v1+notebook": {
   "dashboards": [],
   "environmentMetadata": null,
   "language": "python",
   "notebookMetadata": {
    "pythonIndentUnit": 2
   },
   "notebookName": "deploy",
   "widgets": {}
  },
  "language_info": {
   "name": "python"
  }
 },
 "nbformat": 4,
 "nbformat_minor": 0
}