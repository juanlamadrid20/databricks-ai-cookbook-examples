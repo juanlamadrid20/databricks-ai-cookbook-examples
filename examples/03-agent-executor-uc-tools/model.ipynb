{
 "cells": [
  {
   "cell_type": "code",
   "execution_count": 0,
   "metadata": {
    "application/vnd.databricks.v1+cell": {
     "cellMetadata": {},
     "inputWidgets": {},
     "nuid": "2c3f0eea-470a-4d24-97cd-f7806835e4ec",
     "showTitle": false,
     "tableResultSettingsMap": {},
     "title": ""
    }
   },
   "outputs": [],
   "source": [
    "%pip install -r requirements.txt"
   ]
  },
  {
   "cell_type": "code",
   "execution_count": 0,
   "metadata": {
    "application/vnd.databricks.v1+cell": {
     "cellMetadata": {},
     "inputWidgets": {},
     "nuid": "c0e8f3b9-6def-4ca2-983c-45ac6e42727e",
     "showTitle": false,
     "tableResultSettingsMap": {},
     "title": ""
    }
   },
   "outputs": [],
   "source": [
    "dbutils.library.restartPython()"
   ]
  },
  {
   "cell_type": "code",
   "execution_count": 0,
   "metadata": {
    "application/vnd.databricks.v1+cell": {
     "cellMetadata": {},
     "inputWidgets": {},
     "nuid": "7325e4c5-c7ee-42fb-8f8d-d2435178d7da",
     "showTitle": false,
     "tableResultSettingsMap": {},
     "title": ""
    }
   },
   "outputs": [],
   "source": [
    "import mlflow\n",
    "from mlflow.models import ModelConfig\n",
    "\n",
    "mlflow.langchain.autolog()\n",
    "config = ModelConfig(development_config=\"config.yml\")"
   ]
  },
  {
   "cell_type": "code",
   "execution_count": 0,
   "metadata": {
    "application/vnd.databricks.v1+cell": {
     "cellMetadata": {},
     "inputWidgets": {},
     "nuid": "a155da27-441d-445f-8382-d394242642cb",
     "showTitle": false,
     "tableResultSettingsMap": {},
     "title": ""
    }
   },
   "outputs": [],
   "source": [
    "from databricks.sdk import WorkspaceClient\n",
    "from typing import Optional\n",
    "\n",
    "# warehouse_name = \"Starter Warehouse UC\"\n",
    "try:\n",
    "    warehouse_name = config.get(\"warehouse_name\")\n",
    "except Exception:\n",
    "    warehouse_name = None\n",
    "\n",
    "w = WorkspaceClient()\n",
    "\n",
    "# Put it in the config or let it fetch it by name\n",
    "try:\n",
    "    config_warehouse_id = config.get(\"warehouse_id\")\n",
    "except Exception:\n",
    "    config_warehouse_id = None\n",
    "\n",
    "def get_warehouse_id(warehouse_id: Optional[str], warehouse_name: Optional[str]) -> str:\n",
    "    # This will try to create a warehouse with a name if id is not configured in config\n",
    "    # or it will try to list and use it\n",
    "\n",
    "    if warehouse_id is not None:\n",
    "        return warehouse_id\n",
    "    \n",
    "    assert warehouse_name is not None, \"warehouse_name is None unable to find warehouse\"\n",
    "    \n",
    "    for wh in w.warehouses.list():\n",
    "        if wh.name == warehouse_name:\n",
    "            warehouse_id = wh.id\n",
    "\n",
    "    try:\n",
    "        if warehouse_id is None:\n",
    "            warehouse = w.warehouses.create_and_wait(\n",
    "                cluster_size=\"Small\",\n",
    "                auto_stop_mins=1, \n",
    "                name=warehouse_name, \n",
    "                enable_serverless_compute=True, \n",
    "                min_num_clusters=1, \n",
    "                max_num_clusters=1\n",
    "            )\n",
    "            warehouse_id = warehouse.id\n",
    "    except Exception:\n",
    "        print(\"you probably do not have permissions to do this\")\n",
    "\n",
    "    assert warehouse_id is not None, \"Warehouse id is None\"\n",
    "    return warehouse_id\n",
    "\n",
    "warehouse_id = get_warehouse_id(config_warehouse_id, warehouse_name)\n",
    "warehouse_id"
   ]
  },
  {
   "cell_type": "code",
   "execution_count": 0,
   "metadata": {
    "application/vnd.databricks.v1+cell": {
     "cellMetadata": {},
     "inputWidgets": {},
     "nuid": "a781f516-48af-4ec8-94c9-d12972847e1e",
     "showTitle": false,
     "tableResultSettingsMap": {},
     "title": ""
    }
   },
   "outputs": [],
   "source": [
    "import os\n",
    "from langchain_community.tools.databricks import UCFunctionToolkit\n",
    "\n",
    "os.environ[\"UC_TOOL_CLIENT_EXECUTION_TIMEOUT\"] = \"200\"\n",
    "\n",
    "CATALOG = config.get(\"catalog\")\n",
    "SCHEMA = config.get(\"schema\")\n",
    "FUNCTION1 = config.get(\"add_function\")\n",
    "FUNCTION2 = config.get(\"multiply_function\")\n",
    "\n",
    "tools = (\n",
    "    UCFunctionToolkit(\n",
    "        warehouse_id=warehouse_id\n",
    "    )\n",
    "    .include(\n",
    "        # Include functions as tools using their qualified names.\n",
    "        # You can use \"{catalog_name}.{schema_name}.*\" to get all functions in a schema.\n",
    "        f\"{CATALOG}.{SCHEMA}.{FUNCTION1}\",\n",
    "        f\"{CATALOG}.{SCHEMA}.{FUNCTION2}\",\n",
    "    )\n",
    "    .get_tools()\n",
    ")\n",
    "tools"
   ]
  },
  {
   "cell_type": "code",
   "execution_count": 0,
   "metadata": {
    "application/vnd.databricks.v1+cell": {
     "cellMetadata": {},
     "inputWidgets": {},
     "nuid": "028d343f-15f2-44f5-b78c-3e82632fbef1",
     "showTitle": false,
     "tableResultSettingsMap": {},
     "title": ""
    }
   },
   "outputs": [],
   "source": [
    "from langchain_databricks import ChatDatabricks\n",
    "\n",
    "# Create the llm\n",
    "llm = ChatDatabricks(endpoint=config.get(\"llm_endpoint\"))"
   ]
  },
  {
   "cell_type": "code",
   "execution_count": 0,
   "metadata": {
    "application/vnd.databricks.v1+cell": {
     "cellMetadata": {},
     "inputWidgets": {},
     "nuid": "bb43319b-d31d-4442-99d1-3953ff4e5542",
     "showTitle": false,
     "tableResultSettingsMap": {},
     "title": ""
    }
   },
   "outputs": [],
   "source": [
    "from langchain import hub\n",
    "\n",
    "# Get the prompt to use - can be replaced with any prompt that includes variables \"agent_scratchpad\" and \"input\"!\n",
    "prompt = hub.pull(\"hwchase17/openai-tools-agent\")\n",
    "prompt.pretty_print()\n",
    "prompt"
   ]
  },
  {
   "cell_type": "code",
   "execution_count": 0,
   "metadata": {
    "application/vnd.databricks.v1+cell": {
     "cellMetadata": {},
     "inputWidgets": {},
     "nuid": "38fcc4e9-6779-4c77-b6b0-f733805808d6",
     "showTitle": false,
     "tableResultSettingsMap": {},
     "title": ""
    }
   },
   "outputs": [],
   "source": [
    "from langchain.agents import AgentExecutor, create_tool_calling_agent\n",
    "\n",
    "agent = create_tool_calling_agent(llm, tools, prompt)\n",
    "\n",
    "agent_executor = AgentExecutor(agent=agent, tools=tools, verbose=True)"
   ]
  },
  {
   "cell_type": "code",
   "execution_count": 0,
   "metadata": {
    "application/vnd.databricks.v1+cell": {
     "cellMetadata": {},
     "inputWidgets": {},
     "nuid": "73f0a807-e842-4aae-8e54-23671248e365",
     "showTitle": false,
     "tableResultSettingsMap": {},
     "title": ""
    }
   },
   "outputs": [],
   "source": [
    "from mlflow.langchain.output_parsers import ChatCompletionsOutputParser\n",
    "\n",
    "output_parser = ChatCompletionsOutputParser()"
   ]
  },
  {
   "cell_type": "code",
   "execution_count": 0,
   "metadata": {
    "application/vnd.databricks.v1+cell": {
     "cellMetadata": {},
     "inputWidgets": {},
     "nuid": "3314bd3b-a79f-4e39-b764-bdb228f7dc75",
     "showTitle": false,
     "tableResultSettingsMap": {},
     "title": ""
    }
   },
   "outputs": [],
   "source": [
    "from langchain_core.runnables import RunnableLambda\n",
    "\n",
    "# needed because agent executor returns {\"input\": \"...\", \"output\": \"...\"}\n",
    "def agent_executor_to_just_response(inp):\n",
    "    return inp[\"output\"]\n",
    "  \n",
    "def pre_process_input(inp):\n",
    "    # this is needed to conform to agent executor input which requires input and agent_scratchpad\n",
    "    return {\n",
    "        \"input\": inp\n",
    "    }\n",
    "\n",
    "chain = RunnableLambda(pre_process_input) | agent_executor | RunnableLambda(agent_executor_to_just_response) | output_parser"
   ]
  },
  {
   "cell_type": "code",
   "execution_count": 0,
   "metadata": {
    "application/vnd.databricks.v1+cell": {
     "cellMetadata": {},
     "inputWidgets": {},
     "nuid": "15c2c0e2-6ccc-4192-9386-f1fe34369baf",
     "showTitle": false,
     "tableResultSettingsMap": {},
     "title": ""
    }
   },
   "outputs": [],
   "source": [
    "# chain.invoke(\"what is an llm?\")"
   ]
  },
  {
   "cell_type": "code",
   "execution_count": 0,
   "metadata": {
    "application/vnd.databricks.v1+cell": {
     "cellMetadata": {},
     "inputWidgets": {},
     "nuid": "a2149968-a9fb-4775-8732-14056610addd",
     "showTitle": false,
     "tableResultSettingsMap": {},
     "title": ""
    }
   },
   "outputs": [],
   "source": [
    "# chain.invoke(\"what is 2 + 2?\")"
   ]
  },
  {
   "cell_type": "code",
   "execution_count": 0,
   "metadata": {
    "application/vnd.databricks.v1+cell": {
     "cellMetadata": {},
     "inputWidgets": {},
     "nuid": "73fb8590-8dc5-4c49-a53d-f57a85f4dd11",
     "showTitle": false,
     "tableResultSettingsMap": {},
     "title": ""
    }
   },
   "outputs": [],
   "source": [
    "# ensure that langchain is < 0.3.0\n",
    "mlflow.models.set_model(chain)"
   ]
  },
  {
   "cell_type": "code",
   "execution_count": 0,
   "metadata": {
    "application/vnd.databricks.v1+cell": {
     "cellMetadata": {},
     "inputWidgets": {},
     "nuid": "d57b4e73-f955-4794-b084-95aaac5c75cb",
     "showTitle": false,
     "tableResultSettingsMap": {},
     "title": ""
    }
   },
   "outputs": [],
   "source": []
  }
 ],
 "metadata": {
  "application/vnd.databricks.v1+notebook": {
   "dashboards": [],
   "environmentMetadata": null,
   "language": "python",
   "notebookMetadata": {
    "pythonIndentUnit": 2
   },
   "notebookName": "model",
   "widgets": {}
  },
  "language_info": {
   "name": "python"
  }
 },
 "nbformat": 4,
 "nbformat_minor": 0
}